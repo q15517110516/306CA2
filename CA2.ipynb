{
 "cells": [
  {
   "cell_type": "code",
   "execution_count": 126,
   "metadata": {},
   "outputs": [],
   "source": [
    "import numpy\n",
    "import numpy as np\n",
    "import math\n",
    "\n",
    "import matplotlib.pyplot as plt\n",
    "import scipy.signal as sig\n",
    "import matplotlib as mpl\n",
    "import pylab as pl\n",
    "import types\n",
    "mpl.rcParams['figure.figsize'] = (5,3)\n",
    "%matplotlib inline"
   ]
  },
  {
   "cell_type": "code",
   "execution_count": 127,
   "metadata": {},
   "outputs": [],
   "source": [
    "def my_freqz(b, a = 1, worN=None, whole=None):\n",
    "    atleast_1d = np.atleast_1d\n",
    "    pi = np.pi\n",
    "    exp = np.exp\n",
    "    b, a = map(atleast_1d, (b,a))\n",
    "    if whole:\n",
    "        lp = 2 * pi\n",
    "    else:\n",
    "        lp = pi\n",
    "    if worN is None:\n",
    "        N = 512\n",
    "        w = numpy.arange(0, lp, lp/N)\n",
    "    elif isinstance(worN, int):\n",
    "        N = worN\n",
    "        w = numpy.arange(0, lp,lp/N)\n",
    "    else:\n",
    "        w = worN\n",
    "    w = atleast_1d(w)\n",
    "    x = -1j*w\n",
    "    z1 = np.exp(x)\n",
    "    h = np.polyval(b[::-1], z1) / np.polyval(a[::-1], z1)\n",
    "    return w, h\n",
    "    pass"
   ]
  },
  {
   "cell_type": "code",
   "execution_count": 128,
   "metadata": {},
   "outputs": [
    {
     "name": "stdout",
     "output_type": "stream",
     "text": [
      "True True\n",
      "True True\n",
      "True True\n",
      "True True\n",
      "True True\n",
      "True True\n"
     ]
    }
   ],
   "source": [
    "from collections import namedtuple\n",
    "Test = namedtuple('Test',['b','a','worN','whole'])\n",
    "tests = [ Test([1,0.5,0.1], [1,1], 256, None),\n",
    "         Test(1,1,None, True),\n",
    "         Test(1,1,12, False),\n",
    "         Test([1,2],1,[0,1,2,3], None) ]\n",
    "\n",
    "b, a = sig.iirdesign(0.2, 0.3, 1, 20)\n",
    "tests.append(Test(b,a,None,None))\n",
    "\n",
    "b = sig.firwin(63, 0.25)\n",
    "tests.append(Test(b,1,1024,None))\n",
    "\n",
    "for test in tests:\n",
    "    w, h = sig.freqz(test.b, test.a, test.worN, test.whole)\n",
    "    my_w, my_h = my_freqz(test.b, test.a, test.worN, test.whole)\n",
    "    print(np.allclose(w, my_w), np.allclose(h, my_h))"
   ]
  },
  {
   "cell_type": "code",
   "execution_count": null,
   "metadata": {
    "collapsed": true
   },
   "outputs": [],
   "source": []
  }
 ],
 "metadata": {
  "kernelspec": {
   "display_name": "Python 3",
   "language": "python",
   "name": "python3"
  },
  "language_info": {
   "codemirror_mode": {
    "name": "ipython",
    "version": 3
   },
   "file_extension": ".py",
   "mimetype": "text/x-python",
   "name": "python",
   "nbconvert_exporter": "python",
   "pygments_lexer": "ipython3",
   "version": "3.6.1"
  }
 },
 "nbformat": 4,
 "nbformat_minor": 2
}
